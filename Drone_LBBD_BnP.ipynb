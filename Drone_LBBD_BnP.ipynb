{
 "cells": [
  {
   "cell_type": "code",
   "execution_count": 1,
   "id": "5d9b8f89",
   "metadata": {},
   "outputs": [],
   "source": [
    "file = r\"C:\\Users\\karimia\\Drone-stoch\\Data\\5.xlsx\""
   ]
  },
  {
   "cell_type": "code",
   "execution_count": 2,
   "id": "b9766cde",
   "metadata": {},
   "outputs": [],
   "source": [
    "import numpy as np\n",
    "import matplotlib.pyplot as plt\n",
    "import gurobipy as gp\n",
    "from gurobipy import Model, GRB, quicksum\n",
    "import math\n",
    "import random\n",
    "import itertools as it\n",
    "import numpy as np\n",
    "from pickle import LONG\n",
    "import os\n",
    "import pandas as pd\n",
    "from timeit import default_timer as timer\n",
    "import itertools\n",
    "import random\n",
    "import VRPSolverEasy as vrpse\n",
    "import math\n",
    "random.seed(110)\n",
    "\n",
    "\n",
    "def dist(Locations,i,j):\n",
    "    dist = ((Locations.iloc[i,0]-Locations.iloc[j,0])**2 + (Locations.iloc[i,1]-Locations.iloc[j,1])**2)**0.5\n",
    "    return(dist)"
   ]
  },
  {
   "cell_type": "code",
   "execution_count": 3,
   "id": "5e2616a8",
   "metadata": {},
   "outputs": [],
   "source": [
    "def bnp_solver(Locations,C,D,F1,usage,n_bar,demand,Cap,B,s,t):\n",
    "\n",
    "    def compute_euclidean_distance(x_i, x_j, y_i, y_j):\n",
    "        return round(math.sqrt((x_i - x_j)**2 +(y_i - y_j)**2), 3)\n",
    "\n",
    "    # Data\n",
    "    cost_per_distance = Drone_cost\n",
    "    begin_time = 0\n",
    "    end_time = 5000\n",
    "    nb_point = C+D\n",
    "\n",
    "    coordinates = {str(i): (Locations.iloc[i,0],Locations.iloc[i,1]) for i in range(nb_point)}\n",
    "    # Demands of points\n",
    "    demands = [0]+demand[t,s]\n",
    "    # Initialisation\n",
    "    model = vrpse.Model()\n",
    "    # Add vehicle type\n",
    "    for f in range(F1):\n",
    "        if n_bar[f] > 0:\n",
    "            model.add_vehicle_type(id=f+1,start_point_id=0,end_point_id=0,name=\"V\"+str(f),capacity=Cap[f],max_number=n_bar[f],var_cost_dist=cost_per_distance,tw_end=B[f])\n",
    "\n",
    "    # Add depot\n",
    "    model.add_depot(id=0, name=\"D1\", tw_begin=0, tw_end=5000)\n",
    "\n",
    "    coordinates_keys = list(coordinates.keys())\n",
    "    # Add customers\n",
    "    for i in range(1, nb_point):\n",
    "        model.add_customer(id=i,penalty=pen, name=coordinates_keys[i],demand=demands[i],tw_begin=begin_time,tw_end=end_time)\n",
    "\n",
    "    # Add links\n",
    "    coordinates_values = list(coordinates.values())\n",
    "    for i in range(0, nb_point):\n",
    "        for j in range(i + 1, nb_point):\n",
    "            dist = compute_euclidean_distance(coordinates_values[i][0],coordinates_values[j][0],coordinates_values[i][1],coordinates_values[j][1])\n",
    "            model.add_link(start_point_id=i,end_point_id=j,distance=dist,time=usage*dist)\n",
    "\n",
    "    solver_name = 'cplex'\n",
    "    model.solve()\n",
    "    model.export()\n",
    "    Sol = model.solution.json['Solution']['bestSolutionValue']\n",
    "#     route = model.solution.json['Solution'];\n",
    "    return(Sol)"
   ]
  },
  {
   "cell_type": "code",
   "execution_count": 4,
   "id": "4ef43da0",
   "metadata": {},
   "outputs": [],
   "source": [
    "def dist(Locations,i,j):\n",
    "        dist = ((Locations.iloc[i,0]-Locations.iloc[j,0])**2 + (Locations.iloc[i,1]-Locations.iloc[j,1])**2)**0.5\n",
    "        return(dist)\n",
    "Locations = pd.read_excel(file, header=0, index_col=0, sheet_name='Loc')\n",
    "Demands = pd.read_excel(file, header=0, index_col=0, sheet_name='Dem')\n",
    "Parm = pd.read_excel(file, header=0, index_col=0, sheet_name='Parm')\n",
    "time_sub = 0;\n",
    "time_mast = 0;\n",
    "time_van = 0;\n",
    "time_drone = 0;\n",
    "M=100000000\n",
    "rnd = np.random\n",
    "rnd.seed(104)\n",
    "D = 1 # number of depot\n",
    "C = int(Parm.iloc[6,0]) #number of customers\n",
    "T = 3;\n",
    "S = 3;\n",
    "F1 = 3 #type of drones\n",
    "V = D+C\n",
    "usage = 0.1\n",
    "######changing\n",
    "Cap = [75,100,130];\n",
    "B = [10,15,20]\n",
    "Drone_cost = 1;\n",
    "buy_c = [500,750,1000]\n",
    "pen = 300;\n",
    "distC = {}\n",
    "k=0\n",
    "for i in range(V):\n",
    "    for j in range(V):\n",
    "        distC[i,j] = dist(Locations,i,j) \n",
    "        k+=1\n",
    "\n",
    "dem = {0:list(Demands.iloc[:,0])}\n",
    "\n",
    "#############################################################################################\n",
    "mu, sigma = 0.5, 0.1 # mean and standard deviation\n",
    "demand ={};\n",
    "demt={}\n",
    "for t in range(T):\n",
    "    demt[t] = Demands.iloc[:,0]*np.random.normal(1, 0.1, 1)[0]\n",
    "    for s in range(S):\n",
    "        delta = np.random.normal(mu, sigma, 1)[0]\n",
    "        inc = [1, 1+delta , 1+2*delta]\n",
    "        dum_var = list(map(int, (list(demt[t]*inc[s]))))\n",
    "        demand[t,s] = dum_var\n",
    "\n",
    "sum_dem = [];\n",
    "for t in range(T):\n",
    "    sum_dem +=[sum(demand[t,2])];\n",
    "maxd = max(sum_dem)\n",
    "\n",
    "numb = [int(np.ceil(maxd/Cap[0])),int(np.ceil(maxd/Cap[1])),int(np.ceil(maxd/Cap[2]))]\n",
    "n_bar = {0: 0, 1: 0, 2: numb[2]}"
   ]
  },
  {
   "cell_type": "code",
   "execution_count": 5,
   "id": "8f196965",
   "metadata": {},
   "outputs": [
    {
     "name": "stdout",
     "output_type": "stream",
     "text": [
      "1.9999607000000008\n"
     ]
    }
   ],
   "source": [
    "start = timer()\n",
    "\n",
    "def compute_euclidean_distance(x_i, x_j, y_i, y_j):\n",
    "    return round(math.sqrt((x_i - x_j)**2 +(y_i - y_j)**2), 3)\n",
    "\n",
    "# Data\n",
    "cost_per_distance = Drone_cost\n",
    "begin_time = 0\n",
    "end_time = 5000\n",
    "nb_point = C+D\n",
    "\n",
    "coordinates = {str(i): (Locations.iloc[i,0],Locations.iloc[i,1]) for i in range(nb_point)}\n",
    "# Demands of points\n",
    "demands = [0]+demand[t,s]\n",
    "# Initialisation\n",
    "model = vrpse.Model()\n",
    "# Add vehicle type\n",
    "for f in range(F1):\n",
    "    if n_bar[f] > 0:\n",
    "        model.add_vehicle_type(id=f+1,start_point_id=0,end_point_id=0,name=\"V\"+str(f),capacity=Cap[f],max_number=n_bar[f],var_cost_dist=cost_per_distance,tw_end=B[f])\n",
    "\n",
    "# Add depot\n",
    "model.add_depot(id=0, name=\"D1\", tw_begin=0, tw_end=5000)\n",
    "\n",
    "coordinates_keys = list(coordinates.keys())\n",
    "# Add customers\n",
    "for i in range(1, nb_point):\n",
    "    model.add_customer(id=i, name=coordinates_keys[i],demand=demands[i],tw_begin=begin_time,tw_end=end_time)\n",
    "\n",
    "# Add links\n",
    "coordinates_values = list(coordinates.values())\n",
    "for i in range(0, nb_point):\n",
    "    for j in range(i + 1, nb_point):\n",
    "        dist = compute_euclidean_distance(coordinates_values[i][0],coordinates_values[j][0],coordinates_values[i][1],coordinates_values[j][1])\n",
    "        model.add_link(start_point_id=i,end_point_id=j,distance=dist,time=0)\n",
    "\n",
    "solver_name = 'cplex'\n",
    "model.solve()\n",
    "model.export()\n",
    "Sol = model.solution.json['Solution']['bestSolutionValue']\n",
    "\n",
    "print(timer()-start)"
   ]
  },
  {
   "cell_type": "code",
   "execution_count": 6,
   "id": "a24c7a8f",
   "metadata": {},
   "outputs": [
    {
     "name": "stdout",
     "output_type": "stream",
     "text": [
      "19.319666666666667\n",
      "38.63933333335265\n",
      "62.12433333335265\n",
      "81.44400000001932\n",
      "104.92900000001931\n",
      "128.4140000000193\n",
      "147.733666666686\n",
      "167.05333333335267\n",
      "190.53833333335265\n",
      "14.361701899999998\n"
     ]
    }
   ],
   "source": [
    "T_s =0;\n",
    "start = timer()\n",
    "n_bar = {0: 0, 1: 0, 2: numb[2]}\n",
    "Upper_bound = 0;\n",
    "s= 0\n",
    "for t in range(T):\n",
    "    for se in range(S):\n",
    "        s += bnp_solver(Locations,C,D,F1,usage,n_bar,demand,Cap,B,se,t)/(S)\n",
    "        print(s)\n",
    "Upper_bound = s \n",
    "T_s += timer()-start\n",
    "print(T_s)\n",
    "start = timer()"
   ]
  },
  {
   "cell_type": "code",
   "execution_count": 7,
   "id": "38b635f3",
   "metadata": {},
   "outputs": [],
   "source": [
    "names = [];\n",
    "ObjValue={};\n",
    "n1 = {};\n",
    "n2 = {};\n",
    "n3 = {}\n",
    "for i in range(numb[0]):\n",
    "    for j in range(numb[1]):\n",
    "        for ii in range(numb[2]):\n",
    "            name = str(str(i)+str(j)+str(ii))\n",
    "            ObjValue[name] = Upper_bound; \n",
    "            names += [name]\n",
    "            n1[name] = i;\n",
    "            n2[name] = j;\n",
    "            n3[name] = ii;"
   ]
  },
  {
   "cell_type": "code",
   "execution_count": 8,
   "id": "4c89280c",
   "metadata": {},
   "outputs": [
    {
     "name": "stdout",
     "output_type": "stream",
     "text": [
      "Set parameter WLSAccessID\n",
      "Set parameter WLSSecret\n",
      "Set parameter LicenseID to value 678219\n",
      "Academic license 678219 - for non-commercial use only - registered to ka___@student.unimelb.edu.au\n",
      "Academic license 678219 - for non-commercial use only - registered to ka___@student.unimelb.edu.au\n"
     ]
    }
   ],
   "source": [
    "T_m = 0;\n",
    "start = timer()\n",
    "ms = Model('gmaster');\n",
    "ms.Params.LogToConsole = 0\n",
    "ms.modelSense = GRB.MINIMIZE;\n",
    "g = ms.addVars(names, vtype=GRB.BINARY)\n",
    "beta = ms.addVars(range(1), vtype=GRB.CONTINUOUS)\n",
    "ms.setObjective(quicksum((buy_c[0]*n1[i]+buy_c[1]*n2[i]+buy_c[2]*n3[i])*g[i] for i in names)+beta[0])\n",
    "ms.addConstr(quicksum(g[i] for i in names)==1);\n",
    "ms.addConstr(quicksum((n1[i]*Cap[0]+n2[i]*Cap[1]+n3[i]*Cap[2])*g[i] for i in names) >= sum(demand[0,0]));\n",
    "ms.addConstr(beta[0]>= quicksum(ObjValue[i]*g[i] for i in names));\n",
    "ms.optimize()\n",
    "T_m += timer()-start\n",
    "start = timer()"
   ]
  },
  {
   "cell_type": "code",
   "execution_count": 9,
   "id": "ad1699d3",
   "metadata": {},
   "outputs": [],
   "source": [
    "activeg = [i for i in names if g[i].x == 1]\n",
    "n_bar={}\n",
    "n_bar[0] = n1[activeg[0]];\n",
    "n_bar[1] = n2[activeg[0]];\n",
    "n_bar[2] = n3[activeg[0]];"
   ]
  },
  {
   "cell_type": "code",
   "execution_count": 10,
   "id": "93102206",
   "metadata": {},
   "outputs": [
    {
     "name": "stdout",
     "output_type": "stream",
     "text": [
      "51.6979204\n"
     ]
    }
   ],
   "source": [
    "Obj = 0\n",
    "for t in range(T):\n",
    "    for s in range(S):\n",
    "        Obj += bnp_solver(Locations,C,D,F1,usage,n_bar,demand,Cap,B,s,t)/S\n",
    "\n",
    "ObjValue[activeg[0]] = Obj\n",
    "T_s += timer()-start\n",
    "print(T_s)\n",
    "start = timer()"
   ]
  },
  {
   "cell_type": "code",
   "execution_count": 11,
   "id": "965f9835",
   "metadata": {},
   "outputs": [
    {
     "name": "stdout",
     "output_type": "stream",
     "text": [
      "100\n",
      "1 1941.7096666663113 690.5383333333526\n",
      "Academic license 678219 - for non-commercial use only - registered to ka___@student.unimelb.edu.au\n",
      "010\n",
      "2 1891.9943333331526 940.5383333333526\n",
      "Academic license 678219 - for non-commercial use only - registered to ka___@student.unimelb.edu.au\n",
      "001\n",
      "3 1563.16766666655 1190.5383333333527\n",
      "Academic license 678219 - for non-commercial use only - registered to ka___@student.unimelb.edu.au\n",
      "200\n",
      "4 1410.5173333333905 1190.5383333333527\n",
      "Academic license 678219 - for non-commercial use only - registered to ka___@student.unimelb.edu.au\n",
      "200\n",
      "5 1410.5173333333905 1410.5173333333905\n",
      "Academic license 678219 - for non-commercial use only - registered to ka___@student.unimelb.edu.au\n"
     ]
    }
   ],
   "source": [
    "U = 1000000\n",
    "L = -1000000\n",
    "M = 1000000;\n",
    "\n",
    "itr = 0\n",
    "while U-L>=0.01:\n",
    "    itr += 1\n",
    "    U = ObjValue[activeg[0]] + sum(buy_c[f]*n_bar[f] for f in range(F1));\n",
    "    L = ms.ObjVal\n",
    "    print(activeg[0])\n",
    "    print(itr,U,L)\n",
    "    \n",
    "    ms.addConstr(beta[0]>= quicksum(ObjValue[i]*g[i] for i in names));\n",
    "    ms.optimize()\n",
    "    T_m += timer()-start\n",
    "    start = timer()\n",
    "    \n",
    "    activeg = [i for i in names if g[i].x == 1]\n",
    "    \n",
    "    n_bar={}\n",
    "    n_bar[0] = n1[activeg[0]];\n",
    "    n_bar[1] = n2[activeg[0]];\n",
    "    n_bar[2] = n3[activeg[0]];\n",
    "    \n",
    "    Obj = 0\n",
    "    for t in range(T):\n",
    "        for se in range(S):\n",
    "            Obj += bnp_solver(Locations,C,D,F1,usage,n_bar,demand,Cap,B,se,t)/S\n",
    "    ObjValue[activeg[0]] = Obj\n",
    "    T_s += timer()-start\n",
    "    start = timer()"
   ]
  },
  {
   "cell_type": "code",
   "execution_count": 13,
   "id": "03744059",
   "metadata": {},
   "outputs": [
    {
     "name": "stdout",
     "output_type": "stream",
     "text": [
      "time of solving master problem:   1.4739222000000076 time of solving sub problem: 194.11989709999997\n"
     ]
    }
   ],
   "source": [
    "print(\"time of solving master problem:  \", T_m, \"time of solving sub problem:\",T_s)"
   ]
  },
  {
   "cell_type": "code",
   "execution_count": 14,
   "id": "d9dc1f4e",
   "metadata": {},
   "outputs": [
    {
     "data": {
      "text/plain": [
       "{'000': 190.53833333335265,\n",
       " '001': 563.1676666665501,\n",
       " '010': 1141.9943333331526,\n",
       " '011': 190.53833333335265,\n",
       " '100': 1441.7096666663113,\n",
       " '101': 190.53833333335265,\n",
       " '110': 190.53833333335265,\n",
       " '111': 190.53833333335265,\n",
       " '200': 410.51733333339047,\n",
       " '201': 190.53833333335265,\n",
       " '210': 190.53833333335265,\n",
       " '211': 190.53833333335265}"
      ]
     },
     "execution_count": 14,
     "metadata": {},
     "output_type": "execute_result"
    }
   ],
   "source": [
    "ObjValue"
   ]
  },
  {
   "cell_type": "code",
   "execution_count": 15,
   "id": "664d835c",
   "metadata": {},
   "outputs": [
    {
     "data": {
      "text/plain": [
       "[75, 100, 130]"
      ]
     },
     "execution_count": 15,
     "metadata": {},
     "output_type": "execute_result"
    }
   ],
   "source": [
    "Cap"
   ]
  }
 ],
 "metadata": {
  "kernelspec": {
   "display_name": "Python 3 (ipykernel)",
   "language": "python",
   "name": "python3"
  },
  "language_info": {
   "codemirror_mode": {
    "name": "ipython",
    "version": 3
   },
   "file_extension": ".py",
   "mimetype": "text/x-python",
   "name": "python",
   "nbconvert_exporter": "python",
   "pygments_lexer": "ipython3",
   "version": "3.8.15"
  }
 },
 "nbformat": 4,
 "nbformat_minor": 5
}
